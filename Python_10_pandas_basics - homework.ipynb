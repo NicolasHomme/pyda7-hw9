{
 "cells": [
  {
   "cell_type": "markdown",
   "metadata": {},
   "source": [
    "## Домашнее задание к лекции \"Библиотека Pandas\"\n",
    "\n",
    "### Задание 1\n",
    "Скачайте с сайта https://grouplens.org/datasets/movielens/ датасет любого размера. Определите какому фильму было выставлено больше всего оценок 5.0."
   ]
  },
  {
   "cell_type": "code",
   "execution_count": 10,
   "metadata": {},
   "outputs": [],
   "source": [
    "import pandas as pd"
   ]
  },
  {
   "cell_type": "code",
   "execution_count": 11,
   "metadata": {},
   "outputs": [
    {
     "name": "stdout",
     "output_type": "stream",
     "text": [
      "Wall time: 46.2 s\n"
     ]
    }
   ],
   "source": [
    "%%time\n",
    "data = pd.read_csv('../datasets/ml-latest/ratings.csv')\n",
    "data.head()"
   ]
  },
  {
   "cell_type": "code",
   "execution_count": 53,
   "metadata": {},
   "outputs": [
    {
     "name": "stdout",
     "output_type": "stream",
     "text": [
      "<class 'pandas.core.frame.DataFrame'>\n",
      "RangeIndex: 27753444 entries, 0 to 27753443\n",
      "Data columns (total 4 columns):\n",
      "userId       int64\n",
      "movieId      int64\n",
      "rating       float64\n",
      "timestamp    int64\n",
      "dtypes: float64(1), int64(3)\n",
      "memory usage: 847.0 MB\n"
     ]
    }
   ],
   "source": [
    "data.info()"
   ]
  },
  {
   "cell_type": "code",
   "execution_count": 55,
   "metadata": {},
   "outputs": [
    {
     "data": {
      "text/plain": [
       "318    48762\n",
       "Name: movieId, dtype: int64"
      ]
     },
     "execution_count": 55,
     "metadata": {},
     "output_type": "execute_result"
    }
   ],
   "source": [
    "data[data['rating'] == 5.0]['movieId'].value_counts().head(1)"
   ]
  },
  {
   "cell_type": "markdown",
   "metadata": {},
   "source": [
    "### Задание 2\n",
    "По данным файла power.csv посчитайте суммарное потребление стран Прибалтики (Латвия, Литва и Эстония) категорий 4, 12 и 21 за период с 2005 по 2010 года. Не учитывайте в расчетах отрицательные значения quantity."
   ]
  },
  {
   "cell_type": "code",
   "execution_count": 86,
   "metadata": {},
   "outputs": [],
   "source": [
    "data = pd.read_csv('power.csv')"
   ]
  },
  {
   "cell_type": "code",
   "execution_count": 87,
   "metadata": {},
   "outputs": [
    {
     "name": "stdout",
     "output_type": "stream",
     "text": [
      "<class 'pandas.core.frame.DataFrame'>\n",
      "RangeIndex: 1189482 entries, 0 to 1189481\n",
      "Data columns (total 4 columns):\n",
      "country     1189482 non-null object\n",
      "year        1189482 non-null int64\n",
      "quantity    1189482 non-null float64\n",
      "category    1189482 non-null int64\n",
      "dtypes: float64(1), int64(2), object(1)\n",
      "memory usage: 36.3+ MB\n"
     ]
    }
   ],
   "source": [
    "data.info()"
   ]
  },
  {
   "cell_type": "code",
   "execution_count": 88,
   "metadata": {},
   "outputs": [
    {
     "data": {
      "text/plain": [
       "array(['Lithuania', 'Latvia', 'Estonia'], dtype=object)"
      ]
     },
     "execution_count": 88,
     "metadata": {},
     "output_type": "execute_result"
    }
   ],
   "source": [
    "# сначала выделяем страны в новый датафрейм\n",
    "filt_countries = data[((data['country'] == 'Lithuania') | (data['country'] == 'Latvia') | (data['country'] == 'Estonia'))]\n",
    "filt_countries['country'].unique()"
   ]
  },
  {
   "cell_type": "code",
   "execution_count": 89,
   "metadata": {},
   "outputs": [
    {
     "data": {
      "text/plain": [
       "array([ 4, 12, 21], dtype=int64)"
      ]
     },
     "execution_count": 89,
     "metadata": {},
     "output_type": "execute_result"
    }
   ],
   "source": [
    "# потом выделяем категории\n",
    "filt_c2 = filt_countries[((filt_countries['category'] == 4) | (filt_countries['category'] == 12) | (filt_countries['category'] == 21))]\n",
    "filt_c2['category'].unique()"
   ]
  },
  {
   "cell_type": "code",
   "execution_count": 90,
   "metadata": {},
   "outputs": [
    {
     "data": {
      "text/html": [
       "<div>\n",
       "<style scoped>\n",
       "    .dataframe tbody tr th:only-of-type {\n",
       "        vertical-align: middle;\n",
       "    }\n",
       "\n",
       "    .dataframe tbody tr th {\n",
       "        vertical-align: top;\n",
       "    }\n",
       "\n",
       "    .dataframe thead th {\n",
       "        text-align: right;\n",
       "    }\n",
       "</style>\n",
       "<table border=\"1\" class=\"dataframe\">\n",
       "  <thead>\n",
       "    <tr style=\"text-align: right;\">\n",
       "      <th></th>\n",
       "      <th>quantity</th>\n",
       "    </tr>\n",
       "    <tr>\n",
       "      <th>country</th>\n",
       "      <th></th>\n",
       "    </tr>\n",
       "  </thead>\n",
       "  <tbody>\n",
       "    <tr>\n",
       "      <th>Estonia</th>\n",
       "      <td>63440.0</td>\n",
       "    </tr>\n",
       "    <tr>\n",
       "      <th>Latvia</th>\n",
       "      <td>54844.0</td>\n",
       "    </tr>\n",
       "    <tr>\n",
       "      <th>Lithuania</th>\n",
       "      <td>122296.0</td>\n",
       "    </tr>\n",
       "  </tbody>\n",
       "</table>\n",
       "</div>"
      ],
      "text/plain": [
       "           quantity\n",
       "country            \n",
       "Estonia     63440.0\n",
       "Latvia      54844.0\n",
       "Lithuania  122296.0"
      ]
     },
     "execution_count": 90,
     "metadata": {},
     "output_type": "execute_result"
    }
   ],
   "source": [
    "# выбираем только период с 2005 по 2010, убираем отрицательные quantity, делаем итоговую группировку\n",
    "filt_c2[(filt_c2['year'] > 2004) & (filt_c2['year'] < 2011) & (filt_c2['quantity'] > 0)][['country', 'quantity']].groupby(['country']).sum()"
   ]
  },
  {
   "cell_type": "markdown",
   "metadata": {},
   "source": [
    "### Задание 3\n",
    "Выберите страницу любого сайта с табличными данными. Импортируйте таблицы в pandas dataframe.\n",
    "Примеры страниц (необязательно брать именно эти):\n",
    "https://fortrader.org/quotes\n",
    "https://www.finanz.ru/valyuty/v-realnom-vremeni"
   ]
  },
  {
   "cell_type": "code",
   "execution_count": 104,
   "metadata": {},
   "outputs": [],
   "source": [
    "data = pd.read_html('https://www.finanz.ru/valyuty/v-realnom-vremeni', encoding='utf-8')"
   ]
  },
  {
   "cell_type": "code",
   "execution_count": 116,
   "metadata": {},
   "outputs": [
    {
     "data": {
      "text/html": [
       "<div>\n",
       "<style scoped>\n",
       "    .dataframe tbody tr th:only-of-type {\n",
       "        vertical-align: middle;\n",
       "    }\n",
       "\n",
       "    .dataframe tbody tr th {\n",
       "        vertical-align: top;\n",
       "    }\n",
       "\n",
       "    .dataframe thead th {\n",
       "        text-align: right;\n",
       "    }\n",
       "</style>\n",
       "<table border=\"1\" class=\"dataframe\">\n",
       "  <thead>\n",
       "    <tr style=\"text-align: right;\">\n",
       "      <th></th>\n",
       "      <th>1</th>\n",
       "      <th>2</th>\n",
       "      <th>3</th>\n",
       "      <th>4</th>\n",
       "      <th>5</th>\n",
       "      <th>6</th>\n",
       "      <th>7</th>\n",
       "    </tr>\n",
       "  </thead>\n",
       "  <tbody>\n",
       "    <tr>\n",
       "      <th>0</th>\n",
       "      <td>Рубль</td>\n",
       "      <td>Предложение</td>\n",
       "      <td>Спрос</td>\n",
       "      <td>Предыдущее закрытие</td>\n",
       "      <td>%</td>\n",
       "      <td>Абсолютное значение</td>\n",
       "      <td>Время</td>\n",
       "    </tr>\n",
       "    <tr>\n",
       "      <th>1</th>\n",
       "      <td>GBP/RUB</td>\n",
       "      <td>844726</td>\n",
       "      <td>-</td>\n",
       "      <td>827276</td>\n",
       "      <td>2,11 %</td>\n",
       "      <td>17450</td>\n",
       "      <td>01:53:00</td>\n",
       "    </tr>\n",
       "    <tr>\n",
       "      <th>2</th>\n",
       "      <td>EUR/RUB</td>\n",
       "      <td>709724</td>\n",
       "      <td>-</td>\n",
       "      <td>698230</td>\n",
       "      <td>1,65 %</td>\n",
       "      <td>11494</td>\n",
       "      <td>01:00:00</td>\n",
       "    </tr>\n",
       "    <tr>\n",
       "      <th>3</th>\n",
       "      <td>USD/RUB</td>\n",
       "      <td>639737</td>\n",
       "      <td>-</td>\n",
       "      <td>632136</td>\n",
       "      <td>1,20 %</td>\n",
       "      <td>07601</td>\n",
       "      <td>01:20:00</td>\n",
       "    </tr>\n",
       "    <tr>\n",
       "      <th>4</th>\n",
       "      <td>JPY/RUB</td>\n",
       "      <td>05905</td>\n",
       "      <td>-</td>\n",
       "      <td>05803</td>\n",
       "      <td>1,75 %</td>\n",
       "      <td>00101</td>\n",
       "      <td>01:53:00</td>\n",
       "    </tr>\n",
       "    <tr>\n",
       "      <th>5</th>\n",
       "      <td>CNY/RUB</td>\n",
       "      <td>92227</td>\n",
       "      <td>-</td>\n",
       "      <td>91129</td>\n",
       "      <td>1,20 %</td>\n",
       "      <td>01098</td>\n",
       "      <td>01:53:00</td>\n",
       "    </tr>\n",
       "    <tr>\n",
       "      <th>6</th>\n",
       "      <td>CHF/RUB</td>\n",
       "      <td>664192</td>\n",
       "      <td>-</td>\n",
       "      <td>652023</td>\n",
       "      <td>1,87 %</td>\n",
       "      <td>12170</td>\n",
       "      <td>01:53:00</td>\n",
       "    </tr>\n",
       "  </tbody>\n",
       "</table>\n",
       "</div>"
      ],
      "text/plain": [
       "         1            2      3                    4       5  \\\n",
       "0    Рубль  Предложение  Спрос  Предыдущее закрытие       %   \n",
       "1  GBP/RUB       844726      -               827276  2,11 %   \n",
       "2  EUR/RUB       709724      -               698230  1,65 %   \n",
       "3  USD/RUB       639737      -               632136  1,20 %   \n",
       "4  JPY/RUB        05905      -                05803  1,75 %   \n",
       "5  CNY/RUB        92227      -                91129  1,20 %   \n",
       "6  CHF/RUB       664192      -               652023  1,87 %   \n",
       "\n",
       "                     6         7  \n",
       "0  Абсолютное значение     Время  \n",
       "1                17450  01:53:00  \n",
       "2                11494  01:00:00  \n",
       "3                07601  01:20:00  \n",
       "4                00101  01:53:00  \n",
       "5                01098  01:53:00  \n",
       "6                12170  01:53:00  "
      ]
     },
     "execution_count": 116,
     "metadata": {},
     "output_type": "execute_result"
    }
   ],
   "source": [
    "# беру данные по курсу к рублю\n",
    "rubles = data[1].loc[0:6,1:7]\n",
    "rubles"
   ]
  },
  {
   "cell_type": "code",
   "execution_count": 117,
   "metadata": {},
   "outputs": [
    {
     "data": {
      "text/html": [
       "<div>\n",
       "<style scoped>\n",
       "    .dataframe tbody tr th:only-of-type {\n",
       "        vertical-align: middle;\n",
       "    }\n",
       "\n",
       "    .dataframe tbody tr th {\n",
       "        vertical-align: top;\n",
       "    }\n",
       "\n",
       "    .dataframe thead th {\n",
       "        text-align: right;\n",
       "    }\n",
       "</style>\n",
       "<table border=\"1\" class=\"dataframe\">\n",
       "  <thead>\n",
       "    <tr style=\"text-align: right;\">\n",
       "      <th></th>\n",
       "      <th>Рубль</th>\n",
       "      <th>Предложение</th>\n",
       "      <th>Спрос</th>\n",
       "      <th>Предыдущее закрытие</th>\n",
       "      <th>%</th>\n",
       "      <th>Абсолютное значение</th>\n",
       "      <th>Время</th>\n",
       "    </tr>\n",
       "  </thead>\n",
       "  <tbody>\n",
       "    <tr>\n",
       "      <th>1</th>\n",
       "      <td>GBP/RUB</td>\n",
       "      <td>844726</td>\n",
       "      <td>-</td>\n",
       "      <td>827276</td>\n",
       "      <td>2,11 %</td>\n",
       "      <td>17450</td>\n",
       "      <td>01:53:00</td>\n",
       "    </tr>\n",
       "    <tr>\n",
       "      <th>2</th>\n",
       "      <td>EUR/RUB</td>\n",
       "      <td>709724</td>\n",
       "      <td>-</td>\n",
       "      <td>698230</td>\n",
       "      <td>1,65 %</td>\n",
       "      <td>11494</td>\n",
       "      <td>01:00:00</td>\n",
       "    </tr>\n",
       "    <tr>\n",
       "      <th>3</th>\n",
       "      <td>USD/RUB</td>\n",
       "      <td>639737</td>\n",
       "      <td>-</td>\n",
       "      <td>632136</td>\n",
       "      <td>1,20 %</td>\n",
       "      <td>07601</td>\n",
       "      <td>01:20:00</td>\n",
       "    </tr>\n",
       "    <tr>\n",
       "      <th>4</th>\n",
       "      <td>JPY/RUB</td>\n",
       "      <td>05905</td>\n",
       "      <td>-</td>\n",
       "      <td>05803</td>\n",
       "      <td>1,75 %</td>\n",
       "      <td>00101</td>\n",
       "      <td>01:53:00</td>\n",
       "    </tr>\n",
       "    <tr>\n",
       "      <th>5</th>\n",
       "      <td>CNY/RUB</td>\n",
       "      <td>92227</td>\n",
       "      <td>-</td>\n",
       "      <td>91129</td>\n",
       "      <td>1,20 %</td>\n",
       "      <td>01098</td>\n",
       "      <td>01:53:00</td>\n",
       "    </tr>\n",
       "    <tr>\n",
       "      <th>6</th>\n",
       "      <td>CHF/RUB</td>\n",
       "      <td>664192</td>\n",
       "      <td>-</td>\n",
       "      <td>652023</td>\n",
       "      <td>1,87 %</td>\n",
       "      <td>12170</td>\n",
       "      <td>01:53:00</td>\n",
       "    </tr>\n",
       "  </tbody>\n",
       "</table>\n",
       "</div>"
      ],
      "text/plain": [
       "0    Рубль Предложение Спрос Предыдущее закрытие       % Абсолютное значение  \\\n",
       "1  GBP/RUB      844726     -              827276  2,11 %               17450   \n",
       "2  EUR/RUB      709724     -              698230  1,65 %               11494   \n",
       "3  USD/RUB      639737     -              632136  1,20 %               07601   \n",
       "4  JPY/RUB       05905     -               05803  1,75 %               00101   \n",
       "5  CNY/RUB       92227     -               91129  1,20 %               01098   \n",
       "6  CHF/RUB      664192     -              652023  1,87 %               12170   \n",
       "\n",
       "0     Время  \n",
       "1  01:53:00  \n",
       "2  01:00:00  \n",
       "3  01:20:00  \n",
       "4  01:53:00  \n",
       "5  01:53:00  \n",
       "6  01:53:00  "
      ]
     },
     "execution_count": 117,
     "metadata": {},
     "output_type": "execute_result"
    }
   ],
   "source": [
    "# делаю первую строчку заголовком\n",
    "rubles.columns = rubles.iloc[0] \n",
    "rubles = rubles[1:] \n",
    "rubles"
   ]
  },
  {
   "cell_type": "code",
   "execution_count": null,
   "metadata": {},
   "outputs": [],
   "source": []
  }
 ],
 "metadata": {
  "kernelspec": {
   "display_name": "Python 3",
   "language": "python",
   "name": "python3"
  },
  "language_info": {
   "codemirror_mode": {
    "name": "ipython",
    "version": 3
   },
   "file_extension": ".py",
   "mimetype": "text/x-python",
   "name": "python",
   "nbconvert_exporter": "python",
   "pygments_lexer": "ipython3",
   "version": "3.7.1"
  }
 },
 "nbformat": 4,
 "nbformat_minor": 2
}
